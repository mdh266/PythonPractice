{
 "cells": [
  {
   "cell_type": "code",
   "execution_count": 52,
   "id": "80d5dda1-1665-4d12-ada3-fc18c0e77e47",
   "metadata": {},
   "outputs": [
    {
     "ename": "AttributeError",
     "evalue": "'str' object has no attribute 'reverse'",
     "output_type": "error",
     "traceback": [
      "\u001b[0;31m---------------------------------------------------------------------------\u001b[0m",
      "\u001b[0;31mAttributeError\u001b[0m                            Traceback (most recent call last)",
      "\u001b[0;32m/var/folders/m0/yw_cjd154yj9l4qydgzbysf80000gn/T/ipykernel_69897/4293147681.py\u001b[0m in \u001b[0;36m<module>\u001b[0;34m\u001b[0m\n\u001b[0;32m----> 1\u001b[0;31m \u001b[0;34m\"hello\"\u001b[0m\u001b[0;34m.\u001b[0m\u001b[0mreverse\u001b[0m\u001b[0;34m(\u001b[0m\u001b[0;34m)\u001b[0m\u001b[0;34m\u001b[0m\u001b[0;34m\u001b[0m\u001b[0m\n\u001b[0m",
      "\u001b[0;31mAttributeError\u001b[0m: 'str' object has no attribute 'reverse'"
     ]
    }
   ],
   "source": [
    "\"hello\""
   ]
  },
  {
   "cell_type": "code",
   "execution_count": 49,
   "id": "94bc8bfc-967b-4aff-923d-b1f1a8b88b64",
   "metadata": {},
   "outputs": [],
   "source": [
    "sol = Solution()"
   ]
  },
  {
   "cell_type": "code",
   "execution_count": 50,
   "id": "12904bc7-fa5e-4791-9af7-87fcf0579f1b",
   "metadata": {},
   "outputs": [
    {
     "data": {
      "text/plain": [
       "2"
      ]
     },
     "execution_count": 50,
     "metadata": {},
     "output_type": "execute_result"
    }
   ],
   "source": [
    "sol.minCostClimbingStairs([0,1,2,2])"
   ]
  },
  {
   "cell_type": "code",
   "execution_count": 18,
   "id": "91d61a39-626e-4a34-80a1-9124af935e6e",
   "metadata": {},
   "outputs": [],
   "source": [
    "from typing import List\n",
    "\n",
    "class Solution:\n",
    "    def merge(self, nums1: List[int], m: int, nums2: List[int], n: int) -> None:\n",
    "        \"\"\"\n",
    "        Do not return anything, modify nums1 in-place instead.\n",
    "        \"\"\"\n",
    "        i = 0\n",
    "        j = 0\n",
    "        \n",
    "        while i < n and j < m:\n",
    "            if nums2[i] < nums1[j]:\n",
    "                temp = nums2[i]\n",
    "                nums2[i] = nums1[j]\n",
    "                nums1[j] = temp\n",
    "                j += 1\n",
    "                for z in range(i,n-1):\n",
    "                    if nums2[z] > nums2[z+1]:\n",
    "                        temp = nums2[z]\n",
    "                        nums2[z] = nums2[z+1]\n",
    "                        nums2[z+1] = temp\n",
    "            else:\n",
    "                j += 1\n",
    "                \n",
    "        for k in range(n-i):\n",
    "            nums1[m + k] = nums2[i + k]\n",
    "            "
   ]
  },
  {
   "cell_type": "code",
   "execution_count": 30,
   "id": "b5307b5c-915b-4621-b025-5fe764e2250f",
   "metadata": {},
   "outputs": [],
   "source": [
    "sol = Solution()"
   ]
  },
  {
   "cell_type": "code",
   "execution_count": 28,
   "id": "3500ca2c-164f-4e03-aed4-36ea4ad322a1",
   "metadata": {},
   "outputs": [
    {
     "name": "stdout",
     "output_type": "stream",
     "text": [
      "swap\n",
      "swap nums2\n",
      "swap nums2\n",
      "nums1 = [1, 5, 6, 0, 0, 0]\n",
      "nums2 = [2, 3, 4]\n",
      "swap\n",
      "swap nums2\n",
      "swap nums2\n",
      "nums1 = [1, 2, 6, 0, 0, 0]\n",
      "nums2 = [3, 4, 5]\n",
      "swap\n",
      "swap nums2\n",
      "swap nums2\n",
      "nums1 = [1, 2, 3, 0, 0, 0]\n",
      "nums2 = [4, 5, 6]\n",
      "[1, 2, 3, 4, 5, 6]\n"
     ]
    }
   ],
   "source": [
    "\n",
    "sol.merge([4,5,6,0,0,0], 3,[1,2,3],3)"
   ]
  },
  {
   "cell_type": "code",
   "execution_count": null,
   "id": "ee0d9dca-4f20-4417-b68d-d26616685b8a",
   "metadata": {},
   "outputs": [],
   "source": [
    "nums1"
   ]
  }
 ],
 "metadata": {
  "kernelspec": {
   "display_name": "Python 3 (ipykernel)",
   "language": "python",
   "name": "python3"
  },
  "language_info": {
   "codemirror_mode": {
    "name": "ipython",
    "version": 3
   },
   "file_extension": ".py",
   "mimetype": "text/x-python",
   "name": "python",
   "nbconvert_exporter": "python",
   "pygments_lexer": "ipython3",
   "version": "3.8.10"
  }
 },
 "nbformat": 4,
 "nbformat_minor": 5
}
